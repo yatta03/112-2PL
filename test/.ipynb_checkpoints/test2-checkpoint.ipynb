{
 "cells": [
  {
   "cell_type": "code",
   "execution_count": 2,
   "id": "90ce7d55-7f56-4089-95d9-85506059ed85",
   "metadata": {},
   "outputs": [
    {
     "name": "stdout",
     "output_type": "stream",
     "text": [
      "average income:  189778.36651208502\n",
      "std of income:  105548.3568808908\n",
      "median of income:  178356.0\n"
     ]
    }
   ],
   "source": [
    "import pandas as pd\n",
    "import numpy as np\n",
    "\n",
    "data = pd.read_csv(\"adult.csv\")\n",
    "income = data[\"Income\"].values\n",
    "\n",
    "data.head()\n",
    "avg = np.average(income)\n",
    "std = np.std(income)\n",
    "med = np.median(income)\n",
    "\n",
    "print(\"average income: \", avg)\n",
    "print(\"std of income: \", std)\n",
    "print(\"median of income: \", med)"
   ]
  }
 ],
 "metadata": {
  "kernelspec": {
   "display_name": "Python 3 (ipykernel)",
   "language": "python",
   "name": "python3"
  },
  "language_info": {
   "codemirror_mode": {
    "name": "ipython",
    "version": 3
   },
   "file_extension": ".py",
   "mimetype": "text/x-python",
   "name": "python",
   "nbconvert_exporter": "python",
   "pygments_lexer": "ipython3",
   "version": "3.10.12"
  }
 },
 "nbformat": 4,
 "nbformat_minor": 5
}
