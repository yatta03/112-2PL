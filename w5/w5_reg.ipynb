{
 "cells": [
  {
   "cell_type": "markdown",
   "id": "573c4801-250d-406d-87ee-d3a156cf4a7a",
   "metadata": {},
   "source": [
    "#### the used elona_pet.txt is from the [fandom website](https://elona.fandom.com/wiki/Recommended_pets)'s website source code   \n",
    "the file looks like  \n",
    "`\n",
    "\"<li><a href=\"/wiki/Bells\" class=\"mw-redirect\" title=\"Bells\">Bells</a>. Given ranged weapons, they can fire multiple shots for each turn that a slower target gets, and because of their <a...\"  \n",
    "                                                                                                            `\n",
    "  \n",
    "  target: retrieve the pet name (\"Bells\")"
   ]
  },
  {
   "cell_type": "code",
   "execution_count": 44,
   "id": "3aa14017-3e41-4b9f-9541-5bdb194a2f25",
   "metadata": {},
   "outputs": [],
   "source": [
    "import re\n",
    "import pandas as pd"
   ]
  },
  {
   "cell_type": "code",
   "execution_count": 45,
   "id": "e3fdec1e-0189-4cf7-8694-98a8b28988b6",
   "metadata": {},
   "outputs": [
    {
     "name": "stdout",
     "output_type": "stream",
     "text": [
      "<class 'list'>\n",
      "                    pet                                        description\n",
      "0       Greater Mummies  can be helpful for their fear touch attack, hi...\n",
      "1          Chess Pieces  (except for the <a href=\"/wiki/Pawn\" title=\"Pa...\n",
      "2             Minotaurs  (except for the problematic <a href=\"/wiki/Min...\n",
      "3   Silver eyed witches  are good humanoid pets with 148 speed, <a href...\n",
      "4                Giants  of any kind (if you can find one and dominate ...\n",
      "5            Tarantulas  and <a href=\"/wiki/King_scorpion\" title=\"King ...\n",
      "6                 Bells  . Given ranged weapons, they can fire multiple...\n",
      "7     Quickling archers  are excellent if given a ranged weapon; they c...\n",
      "8          Executioners  have good stats and can use the <a href=\"/wiki...\n",
      "9          Spiral kings  , base level 65, have the highest level among ...\n",
      "10               Nurses                                                   \n",
      "11               Slimes                             and putits of any type\n",
      "12                Hands  . They will pull enemies closer to you, includ...\n",
      "13  Yerles conbat plane                                                   \n",
      "14  Xeren electric tank                                                   \n",
      "15       Mirage gryphon  . Casts <a href=\"/wiki/Spells#Magic_Dart\" titl...\n",
      "16  Xeren satelite unit                                                   \n",
      "17  Bell of Termination        - Another high level bell, but has melee AI\n",
      "18        Meshera gamma  . Somewhat equivalent to a Spiral King, it att...\n",
      "19        Meshera delta  also makes a good pet for similar reasons. Cas...\n",
      "20                  Hel  . Something like a poor man's <a href=\"/wiki/E...\n",
      "21            Ouroboros  . Melee AI, but casts Healing Rain quite often...\n",
      "22             Mucencab  casts Healing Rain and uses <a href=\"/wiki/Spe...\n",
      "23                  Mra  . Not very suitable for adventuring, but it is...\n",
      "24         Nyarlathotep  . Skill-wise, they're like an extremely high-l...\n",
      "25       Jaguar warrior  . With the addition of <a href=\"/wiki/Eye_of_M...\n",
      "26  Performaid pinchief  is as immensely powerful an ally as she is fru...\n"
     ]
    }
   ],
   "source": [
    "file = \"elona_pet.txt\"\n",
    "\n",
    "pattern = r'[^<ul>]<li><a[^>]*>(.*?)<\\/a>((?:[^<]*?<\\/?a[^>]*>.*?)?.*?)\\.'\n",
    "\n",
    "with open(file, 'r') as file:\n",
    "    text = file.read()\n",
    "\n",
    "    matches = re.findall(pattern, text)\n",
    "    data = [(match[0].strip(), match[1].strip()) for match in matches]\n",
    "    \n",
    "    # print type of the matches\n",
    "    print(type(matches))\n",
    "    \n",
    "    # print(matches)\n",
    "    # print(data)\n",
    "    \n",
    "    df = pd.DataFrame(data, columns=['pet', 'description'])\n",
    "    print(df)\n",
    "    # df.head()"
   ]
  },
  {
   "cell_type": "code",
   "execution_count": null,
   "id": "ae7ae203-ec70-4dfb-b46c-d0f414a7f144",
   "metadata": {},
   "outputs": [],
   "source": []
  }
 ],
 "metadata": {
  "kernelspec": {
   "display_name": "Python 3 (ipykernel)",
   "language": "python",
   "name": "python3"
  },
  "language_info": {
   "codemirror_mode": {
    "name": "ipython",
    "version": 3
   },
   "file_extension": ".py",
   "mimetype": "text/x-python",
   "name": "python",
   "nbconvert_exporter": "python",
   "pygments_lexer": "ipython3",
   "version": "3.10.12"
  }
 },
 "nbformat": 4,
 "nbformat_minor": 5
}
