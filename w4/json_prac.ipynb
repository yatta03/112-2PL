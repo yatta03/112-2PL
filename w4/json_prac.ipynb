{
 "cells": [
  {
   "cell_type": "markdown",
   "id": "664b0e32-0f30-495b-bca1-13105b59ee50",
   "metadata": {},
   "source": [
    "[this](https://realpython.com/sort-python-dictionary/) is useful for sorting with dictionary"
   ]
  },
  {
   "cell_type": "code",
   "execution_count": 62,
   "id": "ce4988c1-1a0d-419e-b84a-f96249c15a8f",
   "metadata": {},
   "outputs": [],
   "source": [
    "import json"
   ]
  },
  {
   "cell_type": "code",
   "execution_count": 63,
   "id": "7712c7bc-6d6d-4e6b-ae8e-c044f5289ff0",
   "metadata": {},
   "outputs": [
    {
     "name": "stdout",
     "output_type": "stream",
     "text": [
      "<class 'dict'>\n",
      "dict_items([('employees', [{'firstName': 'John', 'lastName': 'Doe'}, {'firstName': 'Anna', 'lastName': 'Smith'}, {'firstName': 'Peter', 'lastName': 'Jones'}])])\n",
      "[dict_keys(['firstName', 'lastName', 'age']), dict_keys(['firstName', 'lastName', 'age']), dict_keys(['firstName', 'lastName', 'age'])]\n",
      "33\n"
     ]
    }
   ],
   "source": [
    "employs = {\n",
    "  \"e1\":{ \"firstName\":\"John\", \"lastName\":\"Doe\", \"age\": 33 },\n",
    "  \"e2\":{ \"firstName\":\"Anna\", \"lastName\":\"Smith\", \"age\":55 },\n",
    "  \"e3\":{ \"firstName\":\"Peter\", \"lastName\":\"Jones\", \"age\":44 }\n",
    "}\n",
    "print(type(data))\n",
    "print(data.items())\n",
    "print([e.keys() for e in employs.values()])\n",
    "print(employs[\"e1\"][\"age\"])\n",
    "# print([e[1] for e in employs.items()])"
   ]
  },
  {
   "cell_type": "code",
   "execution_count": 64,
   "id": "e0c43a2e-ef69-4d1f-9aea-23d77a8e9d30",
   "metadata": {},
   "outputs": [],
   "source": [
    "# sort by employees' age\n",
    "sorted_ = sorted(employs.items(), key=lambda x:x[1]['age'])"
   ]
  },
  {
   "cell_type": "code",
   "execution_count": 65,
   "id": "66935e6a-c10a-438e-8817-bb5b65f11b5c",
   "metadata": {},
   "outputs": [
    {
     "data": {
      "text/plain": [
       "{'e1': {'firstName': 'John', 'lastName': 'Doe', 'age': 33},\n",
       " 'e3': {'firstName': 'Peter', 'lastName': 'Jones', 'age': 44},\n",
       " 'e2': {'firstName': 'Anna', 'lastName': 'Smith', 'age': 55}}"
      ]
     },
     "execution_count": 65,
     "metadata": {},
     "output_type": "execute_result"
    }
   ],
   "source": [
    "# change back to dictionary\n",
    "sorted_e = {}\n",
    "for key, value in sorted_:\n",
    "    sorted_e[key] = value\n",
    "sorted_e"
   ]
  }
 ],
 "metadata": {
  "kernelspec": {
   "display_name": "Python 3 (ipykernel)",
   "language": "python",
   "name": "python3"
  },
  "language_info": {
   "codemirror_mode": {
    "name": "ipython",
    "version": 3
   },
   "file_extension": ".py",
   "mimetype": "text/x-python",
   "name": "python",
   "nbconvert_exporter": "python",
   "pygments_lexer": "ipython3",
   "version": "3.10.12"
  }
 },
 "nbformat": 4,
 "nbformat_minor": 5
}
